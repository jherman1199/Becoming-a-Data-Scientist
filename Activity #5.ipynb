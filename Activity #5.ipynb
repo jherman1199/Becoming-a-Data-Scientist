{
 "cells": [
  {
   "cell_type": "markdown",
   "metadata": {},
   "source": [
    "### Activity 5 - Becoming a Data Scientist - Naive Bayes"
   ]
  },
  {
   "cell_type": "code",
   "execution_count": 2,
   "metadata": {
    "collapsed": true
   },
   "outputs": [],
   "source": [
    "%matplotlib inline\n",
    "import pandas as pd\n",
    "from matplotlib import pyplot as plt\n",
    "import matplotlib\n",
    "matplotlib.style.use('fivethirtyeight')\n",
    "import numpy as np\n",
    "import seaborn as sns"
   ]
  },
  {
   "cell_type": "code",
   "execution_count": 3,
   "metadata": {
    "collapsed": true
   },
   "outputs": [],
   "source": [
    "df = pd.read_csv('pima_indians_diabetes.csv')"
   ]
  },
  {
   "cell_type": "code",
   "execution_count": 4,
   "metadata": {
    "collapsed": false
   },
   "outputs": [
    {
     "data": {
      "text/html": [
       "<div>\n",
       "<table border=\"1\" class=\"dataframe\">\n",
       "  <thead>\n",
       "    <tr style=\"text-align: right;\">\n",
       "      <th></th>\n",
       "      <th>times_pregnant</th>\n",
       "      <th>plasma_glucose_concentration</th>\n",
       "      <th>diastolic_blood_pressure</th>\n",
       "      <th>tricepts_skin_fold_thickness</th>\n",
       "      <th>2_hour_serum_insulin</th>\n",
       "      <th>body_mass_index</th>\n",
       "      <th>diabetes_pedigree_function</th>\n",
       "      <th>age</th>\n",
       "      <th>class_variable</th>\n",
       "    </tr>\n",
       "  </thead>\n",
       "  <tbody>\n",
       "    <tr>\n",
       "      <th>0</th>\n",
       "      <td>6</td>\n",
       "      <td>148</td>\n",
       "      <td>72</td>\n",
       "      <td>35</td>\n",
       "      <td>0</td>\n",
       "      <td>33.6</td>\n",
       "      <td>0.627</td>\n",
       "      <td>50</td>\n",
       "      <td>1</td>\n",
       "    </tr>\n",
       "    <tr>\n",
       "      <th>1</th>\n",
       "      <td>1</td>\n",
       "      <td>85</td>\n",
       "      <td>66</td>\n",
       "      <td>29</td>\n",
       "      <td>0</td>\n",
       "      <td>26.6</td>\n",
       "      <td>0.351</td>\n",
       "      <td>31</td>\n",
       "      <td>0</td>\n",
       "    </tr>\n",
       "    <tr>\n",
       "      <th>2</th>\n",
       "      <td>8</td>\n",
       "      <td>183</td>\n",
       "      <td>64</td>\n",
       "      <td>0</td>\n",
       "      <td>0</td>\n",
       "      <td>23.3</td>\n",
       "      <td>0.672</td>\n",
       "      <td>32</td>\n",
       "      <td>1</td>\n",
       "    </tr>\n",
       "    <tr>\n",
       "      <th>3</th>\n",
       "      <td>1</td>\n",
       "      <td>89</td>\n",
       "      <td>66</td>\n",
       "      <td>23</td>\n",
       "      <td>94</td>\n",
       "      <td>28.1</td>\n",
       "      <td>0.167</td>\n",
       "      <td>21</td>\n",
       "      <td>0</td>\n",
       "    </tr>\n",
       "    <tr>\n",
       "      <th>4</th>\n",
       "      <td>0</td>\n",
       "      <td>137</td>\n",
       "      <td>40</td>\n",
       "      <td>35</td>\n",
       "      <td>168</td>\n",
       "      <td>43.1</td>\n",
       "      <td>2.288</td>\n",
       "      <td>33</td>\n",
       "      <td>1</td>\n",
       "    </tr>\n",
       "  </tbody>\n",
       "</table>\n",
       "</div>"
      ],
      "text/plain": [
       "   times_pregnant  plasma_glucose_concentration  diastolic_blood_pressure  \\\n",
       "0               6                           148                        72   \n",
       "1               1                            85                        66   \n",
       "2               8                           183                        64   \n",
       "3               1                            89                        66   \n",
       "4               0                           137                        40   \n",
       "\n",
       "   tricepts_skin_fold_thickness  2_hour_serum_insulin  body_mass_index  \\\n",
       "0                            35                     0             33.6   \n",
       "1                            29                     0             26.6   \n",
       "2                             0                     0             23.3   \n",
       "3                            23                    94             28.1   \n",
       "4                            35                   168             43.1   \n",
       "\n",
       "   diabetes_pedigree_function  age  class_variable  \n",
       "0                       0.627   50               1  \n",
       "1                       0.351   31               0  \n",
       "2                       0.672   32               1  \n",
       "3                       0.167   21               0  \n",
       "4                       2.288   33               1  "
      ]
     },
     "execution_count": 4,
     "metadata": {},
     "output_type": "execute_result"
    }
   ],
   "source": [
    "df.head()"
   ]
  },
  {
   "cell_type": "code",
   "execution_count": 5,
   "metadata": {
    "collapsed": false
   },
   "outputs": [],
   "source": [
    "y = df['class_variable']\n",
    "x = df[['times_pregnant', 'plasma_glucose_concentration', 'diastolic_blood_pressure', 'tricepts_skin_fold_thickness',\n",
    "       '2_hour_serum_insulin', 'body_mass_index', 'diabetes_pedigree_function', 'age']]"
   ]
  },
  {
   "cell_type": "markdown",
   "metadata": {},
   "source": [
    "Just for fun, I want to look at the feature importance of all the columns"
   ]
  },
  {
   "cell_type": "code",
   "execution_count": 6,
   "metadata": {
    "collapsed": true
   },
   "outputs": [],
   "source": [
    "from sklearn.feature_selection import SelectKBest"
   ]
  },
  {
   "cell_type": "code",
   "execution_count": 7,
   "metadata": {
    "collapsed": true
   },
   "outputs": [],
   "source": [
    "test = SelectKBest(k='all')"
   ]
  },
  {
   "cell_type": "code",
   "execution_count": 8,
   "metadata": {
    "collapsed": false
   },
   "outputs": [],
   "source": [
    "fit = test.fit(x, y)"
   ]
  },
  {
   "cell_type": "code",
   "execution_count": 9,
   "metadata": {
    "collapsed": false
   },
   "outputs": [
    {
     "name": "stderr",
     "output_type": "stream",
     "text": [
      "/Users/jeffreyherman/anaconda/lib/python2.7/site-packages/ipykernel/__main__.py:4: FutureWarning: sort(columns=....) is deprecated, use sort_values(by=.....)\n"
     ]
    },
    {
     "data": {
      "text/html": [
       "<div>\n",
       "<table border=\"1\" class=\"dataframe\">\n",
       "  <thead>\n",
       "    <tr style=\"text-align: right;\">\n",
       "      <th></th>\n",
       "      <th>feature</th>\n",
       "      <th>importance</th>\n",
       "    </tr>\n",
       "  </thead>\n",
       "  <tbody>\n",
       "    <tr>\n",
       "      <th>1</th>\n",
       "      <td>plasma_glucose_concentration</td>\n",
       "      <td>213.161752</td>\n",
       "    </tr>\n",
       "    <tr>\n",
       "      <th>5</th>\n",
       "      <td>body_mass_index</td>\n",
       "      <td>71.772072</td>\n",
       "    </tr>\n",
       "    <tr>\n",
       "      <th>7</th>\n",
       "      <td>age</td>\n",
       "      <td>46.140611</td>\n",
       "    </tr>\n",
       "    <tr>\n",
       "      <th>0</th>\n",
       "      <td>times_pregnant</td>\n",
       "      <td>39.670227</td>\n",
       "    </tr>\n",
       "    <tr>\n",
       "      <th>6</th>\n",
       "      <td>diabetes_pedigree_function</td>\n",
       "      <td>23.871300</td>\n",
       "    </tr>\n",
       "    <tr>\n",
       "      <th>4</th>\n",
       "      <td>2_hour_serum_insulin</td>\n",
       "      <td>13.281108</td>\n",
       "    </tr>\n",
       "    <tr>\n",
       "      <th>3</th>\n",
       "      <td>tricepts_skin_fold_thickness</td>\n",
       "      <td>4.304381</td>\n",
       "    </tr>\n",
       "    <tr>\n",
       "      <th>2</th>\n",
       "      <td>diastolic_blood_pressure</td>\n",
       "      <td>3.256950</td>\n",
       "    </tr>\n",
       "  </tbody>\n",
       "</table>\n",
       "</div>"
      ],
      "text/plain": [
       "                        feature  importance\n",
       "1  plasma_glucose_concentration  213.161752\n",
       "5               body_mass_index   71.772072\n",
       "7                           age   46.140611\n",
       "0                times_pregnant   39.670227\n",
       "6    diabetes_pedigree_function   23.871300\n",
       "4          2_hour_serum_insulin   13.281108\n",
       "3  tricepts_skin_fold_thickness    4.304381\n",
       "2      diastolic_blood_pressure    3.256950"
      ]
     },
     "execution_count": 9,
     "metadata": {},
     "output_type": "execute_result"
    }
   ],
   "source": [
    "features=pd.DataFrame()\n",
    "features['feature'] = x.columns\n",
    "features['importance'] = fit.scores_\n",
    "features.sort(['importance'],ascending=False)"
   ]
  },
  {
   "cell_type": "markdown",
   "metadata": {},
   "source": [
    "Plasma Glucose Concentration is far and away the most important! As a refresher the plot is below"
   ]
  },
  {
   "cell_type": "code",
   "execution_count": 10,
   "metadata": {
    "collapsed": false
   },
   "outputs": [
    {
     "data": {
      "text/plain": [
       "<matplotlib.legend.Legend at 0x11568ba90>"
      ]
     },
     "execution_count": 10,
     "metadata": {},
     "output_type": "execute_result"
    },
    {
     "data": {
      "image/png": "[encoded data removed]",
      "text/plain": [
       "<matplotlib.figure.Figure at 0x11568bb10>"
      ]
     },
     "metadata": {},
     "output_type": "display_data"
    }
   ],
   "source": [
    "figure = plt.figure(figsize=(15,8))\n",
    "plt.hist([df[df['class_variable']==1]['plasma_glucose_concentration'], \n",
    "          df[df['class_variable']==0]['plasma_glucose_concentration']], stacked=True,\n",
    "         color = ['g','r'],bins = 50,label = ['Diabetes','No-Diabetes'])\n",
    "plt.xlabel('Plasma Glucose Concentration')\n",
    "plt.ylabel('Number of Pima Indians')\n",
    "plt.legend()"
   ]
  },
  {
   "cell_type": "code",
   "execution_count": 11,
   "metadata": {
    "collapsed": true
   },
   "outputs": [],
   "source": [
    "from sklearn.cross_validation import train_test_split\n",
    "features_train, features_test, y_train, y_test = train_test_split(x, y, test_size=0.30)"
   ]
  },
  {
   "cell_type": "code",
   "execution_count": 14,
   "metadata": {
    "collapsed": false
   },
   "outputs": [],
   "source": [
    "from sklearn.naive_bayes import GaussianNB\n",
    "clf = GaussianNB()"
   ]
  },
  {
   "cell_type": "code",
   "execution_count": 15,
   "metadata": {
    "collapsed": true
   },
   "outputs": [],
   "source": [
    "from sklearn.metrics import accuracy_score\n",
    "from sklearn.metrics import precision_score\n",
    "from sklearn.metrics import recall_score"
   ]
  },
  {
   "cell_type": "code",
   "execution_count": 122,
   "metadata": {
    "collapsed": false
   },
   "outputs": [
    {
     "name": "stdout",
     "output_type": "stream",
     "text": [
      "Accuracy:  0.754428571429\n",
      "Precision:  0.665899735089\n",
      "Recall:  0.60157685872\n"
     ]
    }
   ],
   "source": [
    "j = 0\n",
    "accuracy = 0 \n",
    "precision = 0\n",
    "recall = 0\n",
    "while j < 1000:\n",
    "    features_train, features_test, labels_train, labels_test = train_test_split(x, y, test_size=0.30)\n",
    "    clf.fit(features_train, labels_train)\n",
    "    pred = clf.predict(features_test)\n",
    "    acc = accuracy_score(labels_test, pred)\n",
    "    j += 1\n",
    "    accuracy = accuracy + acc\n",
    "    precision = precision + precision_score(labels_test, pred)\n",
    "    recall = recall + recall_score(labels_test, pred)\n",
    "    \n",
    "print \"Accuracy: \", accuracy / 1000.0\n",
    "print \"Precision: \", precision / 1000.0\n",
    "print \"Recall: \", recall / 1000.0"
   ]
  },
  {
   "cell_type": "markdown",
   "metadata": {},
   "source": [
    "Next, I wanted to see how the accuracy, precision, and recall scores change as I subtract features"
   ]
  },
  {
   "cell_type": "code",
   "execution_count": 86,
   "metadata": {
    "collapsed": false
   },
   "outputs": [
    {
     "name": "stdout",
     "output_type": "stream",
     "text": [
      "{'1': (0.74656277056277165, 0.71543704834875954, 0.46425056328115688), '3': (0.76512987012986977, 0.70422938351692388, 0.56551399879301645), '2': (0.76360606060606129, 0.72319392385116799, 0.52377778463801716), '5': (0.75930303030303148, 0.67725751862145001, 0.59528044937550484), '4': (0.75174025974026049, 0.66910772204961078, 0.57937759951631096), '7': (0.75537229437229447, 0.67048282225559108, 0.58686075686198913), '6': (0.75616883116883238, 0.67592568099899464, 0.58072079630053397), '8': (0.75286580086580113, 0.6612270066648297, 0.5987593961250165)}\n"
     ]
    }
   ],
   "source": [
    "scores = {}\n",
    "jj = 8\n",
    "listy = ['plasma_glucose_concentration', 'body_mass_index', 'age', 'times_pregnant', 'diabetes_pedigree_function', \n",
    "         '2_hour_serum_insulin', 'tricepts_skin_fold_thickness', 'diastolic_blood_pressure']\n",
    "while jj > 0:\n",
    "    x_1 = df[listy]\n",
    "    j=0\n",
    "    accuracy = 0 \n",
    "    precision = 0\n",
    "    recall = 0\n",
    "    while j < 1000:\n",
    "        features_train, features_test, labels_train, labels_test = train_test_split(x_1, y, test_size=0.30)\n",
    "        clf.fit(features_train, labels_train)\n",
    "        pred = clf.predict(features_test)\n",
    "        acc = accuracy_score(labels_test, pred)\n",
    "        j = j + 1\n",
    "        accuracy = accuracy + acc\n",
    "        precision = precision + precision_score(labels_test, pred)\n",
    "        recall = recall + recall_score(labels_test, pred)\n",
    "    scores[str(jj)] = accuracy / 1000.0, precision / 1000.0, recall / 1000.0\n",
    "    jj = jj - 1\n",
    "    listy.pop()\n",
    "print scores"
   ]
  },
  {
   "cell_type": "code",
   "execution_count": 101,
   "metadata": {
    "collapsed": false
   },
   "outputs": [],
   "source": [
    "df1 = pd.DataFrame.from_dict(scores, 'index')\n",
    "df1['number_of_features'] = df1.index\n",
    "df1.columns = ['accuracy', 'precision', 'recall', 'number_of_features']"
   ]
  },
  {
   "cell_type": "code",
   "execution_count": 95,
   "metadata": {
    "collapsed": false
   },
   "outputs": [],
   "source": [
    "df1.columns = ['Accuracy', 'Precision', 'Recall']"
   ]
  },
  {
   "cell_type": "code",
   "execution_count": 116,
   "metadata": {
    "collapsed": false
   },
   "outputs": [
    {
     "data": {
      "text/html": [
       "<div>\n",
       "<table border=\"1\" class=\"dataframe\">\n",
       "  <thead>\n",
       "    <tr style=\"text-align: right;\">\n",
       "      <th></th>\n",
       "      <th>accuracy</th>\n",
       "      <th>precision</th>\n",
       "      <th>recall</th>\n",
       "      <th>number_of_features</th>\n",
       "    </tr>\n",
       "  </thead>\n",
       "  <tbody>\n",
       "    <tr>\n",
       "      <th>1</th>\n",
       "      <td>0.746563</td>\n",
       "      <td>0.715437</td>\n",
       "      <td>0.464251</td>\n",
       "      <td>1</td>\n",
       "    </tr>\n",
       "    <tr>\n",
       "      <th>3</th>\n",
       "      <td>0.765130</td>\n",
       "      <td>0.704229</td>\n",
       "      <td>0.565514</td>\n",
       "      <td>3</td>\n",
       "    </tr>\n",
       "    <tr>\n",
       "      <th>2</th>\n",
       "      <td>0.763606</td>\n",
       "      <td>0.723194</td>\n",
       "      <td>0.523778</td>\n",
       "      <td>2</td>\n",
       "    </tr>\n",
       "    <tr>\n",
       "      <th>5</th>\n",
       "      <td>0.759303</td>\n",
       "      <td>0.677258</td>\n",
       "      <td>0.595280</td>\n",
       "      <td>5</td>\n",
       "    </tr>\n",
       "    <tr>\n",
       "      <th>4</th>\n",
       "      <td>0.751740</td>\n",
       "      <td>0.669108</td>\n",
       "      <td>0.579378</td>\n",
       "      <td>4</td>\n",
       "    </tr>\n",
       "  </tbody>\n",
       "</table>\n",
       "</div>"
      ],
      "text/plain": [
       "   accuracy  precision    recall number_of_features\n",
       "1  0.746563   0.715437  0.464251                  1\n",
       "3  0.765130   0.704229  0.565514                  3\n",
       "2  0.763606   0.723194  0.523778                  2\n",
       "5  0.759303   0.677258  0.595280                  5\n",
       "4  0.751740   0.669108  0.579378                  4"
      ]
     },
     "execution_count": 116,
     "metadata": {},
     "output_type": "execute_result"
    }
   ],
   "source": [
    "df1.head()"
   ]
  },
  {
   "cell_type": "code",
   "execution_count": 120,
   "metadata": {
    "collapsed": false
   },
   "outputs": [
    {
     "data": {
      "text/html": [
       "<div>\n",
       "<table border=\"1\" class=\"dataframe\">\n",
       "  <thead>\n",
       "    <tr style=\"text-align: right;\">\n",
       "      <th></th>\n",
       "      <th>accuracy</th>\n",
       "      <th>precision</th>\n",
       "      <th>recall</th>\n",
       "      <th>number_of_features</th>\n",
       "    </tr>\n",
       "  </thead>\n",
       "  <tbody>\n",
       "    <tr>\n",
       "      <th>1</th>\n",
       "      <td>0.746563</td>\n",
       "      <td>0.715437</td>\n",
       "      <td>0.464251</td>\n",
       "      <td>1</td>\n",
       "    </tr>\n",
       "    <tr>\n",
       "      <th>2</th>\n",
       "      <td>0.763606</td>\n",
       "      <td>0.723194</td>\n",
       "      <td>0.523778</td>\n",
       "      <td>2</td>\n",
       "    </tr>\n",
       "    <tr>\n",
       "      <th>3</th>\n",
       "      <td>0.765130</td>\n",
       "      <td>0.704229</td>\n",
       "      <td>0.565514</td>\n",
       "      <td>3</td>\n",
       "    </tr>\n",
       "    <tr>\n",
       "      <th>4</th>\n",
       "      <td>0.751740</td>\n",
       "      <td>0.669108</td>\n",
       "      <td>0.579378</td>\n",
       "      <td>4</td>\n",
       "    </tr>\n",
       "    <tr>\n",
       "      <th>5</th>\n",
       "      <td>0.759303</td>\n",
       "      <td>0.677258</td>\n",
       "      <td>0.595280</td>\n",
       "      <td>5</td>\n",
       "    </tr>\n",
       "  </tbody>\n",
       "</table>\n",
       "</div>"
      ],
      "text/plain": [
       "   accuracy  precision    recall number_of_features\n",
       "1  0.746563   0.715437  0.464251                  1\n",
       "2  0.763606   0.723194  0.523778                  2\n",
       "3  0.765130   0.704229  0.565514                  3\n",
       "4  0.751740   0.669108  0.579378                  4\n",
       "5  0.759303   0.677258  0.595280                  5"
      ]
     },
     "execution_count": 120,
     "metadata": {},
     "output_type": "execute_result"
    }
   ],
   "source": [
    "df1.sort_index(inplace = True)\n",
    "df1.head()"
   ]
  },
  {
   "cell_type": "code",
   "execution_count": 121,
   "metadata": {
    "collapsed": false
   },
   "outputs": [
    {
     "data": {
      "text/plain": [
       "<matplotlib.legend.Legend at 0x11a317390>"
      ]
     },
     "execution_count": 121,
     "metadata": {},
     "output_type": "execute_result"
    },
    {
     "data": {
      "image/png": "[encoded data removed]",
      "text/plain": [
       "<matplotlib.figure.Figure at 0x11a291910>"
      ]
     },
     "metadata": {},
     "output_type": "display_data"
    }
   ],
   "source": [
    "plt.figure(figsize=(15,8))\n",
    "ax = plt.subplot()\n",
    "ax.plot(df1['number_of_features'], df1['accuracy'], c='red')\n",
    "ax.plot(df1['number_of_features'], df1['precision'], c='green')\n",
    "ax.plot(df1['number_of_features'], df1['recall'], c='blue')\n",
    "ax.set_xlabel('Number of Features')\n",
    "ax.set_ylabel('Score')\n",
    "ax.legend(('Accuracy','Precision', 'Recall'),loc='best',fontsize=15,)"
   ]
  },
  {
   "cell_type": "markdown",
   "metadata": {},
   "source": [
    "As I decreased featues the accuracy stayed about the same, the precision increased, and the recall decreased."
   ]
  }
 ],
 "metadata": {
  "kernelspec": {
   "display_name": "Python 2",
   "language": "python",
   "name": "python2"
  },
  "language_info": {
   "codemirror_mode": {
    "name": "ipython",
    "version": 2
   },
   "file_extension": ".py",
   "mimetype": "text/x-python",
   "name": "python",
   "nbconvert_exporter": "python",
   "pygments_lexer": "ipython2",
   "version": "2.7.12"
  }
 },
 "nbformat": 4,
 "nbformat_minor": 0
}
